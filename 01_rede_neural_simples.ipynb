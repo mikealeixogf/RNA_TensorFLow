{
  "nbformat": 4,
  "nbformat_minor": 0,
  "metadata": {
    "colab": {
      "name": "01_rede_neural_simples.ipynb",
      "provenance": [],
      "collapsed_sections": [],
      "authorship_tag": "ABX9TyPuEuIdbon5LkTat7h3UKYd",
      "include_colab_link": true
    },
    "kernelspec": {
      "name": "python3",
      "display_name": "Python 3"
    },
    "language_info": {
      "name": "python"
    }
  },
  "cells": [
    {
      "cell_type": "markdown",
      "metadata": {
        "id": "view-in-github",
        "colab_type": "text"
      },
      "source": [
        "<a href=\"https://colab.research.google.com/github/mikealeixogf/RNA_TensorFLow/blob/main/01_rede_neural_simples.ipynb\" target=\"_parent\"><img src=\"https://colab.research.google.com/assets/colab-badge.svg\" alt=\"Open In Colab\"/></a>"
      ]
    },
    {
      "cell_type": "markdown",
      "source": [
        "## Utilizando tensorflow em uma rede neural simples"
      ],
      "metadata": {
        "id": "01xGzFjCQo_N"
      }
    },
    {
      "cell_type": "code",
      "execution_count": null,
      "metadata": {
        "id": "STQFP_CTQfRM"
      },
      "outputs": [],
      "source": [
        "!pip install tensorflow\n",
        "!pip install keras "
      ]
    },
    {
      "cell_type": "markdown",
      "source": [
        "Aplicando-se valores de entrada e de saída em um sistema. O código acha a regra e gera a predição para uma entrada (uma camada, com apenas um vetor) e sua saída\n",
        "\n",
        "a função y(x) = 2x -1 para os valores de entrada xs entre -1 e 4, sua saída será ys entre = -3 e 7\n",
        "\n",
        "> aplicaremos para os valores 10, 15, 20 e 25. E analisáremos com épocas de 50,500 e 2000."
      ],
      "metadata": {
        "id": "GgvbDgHzPLD2"
      }
    },
    {
      "cell_type": "markdown",
      "source": [
        "### Passo 1:\n",
        "\n",
        "> Cria-se um modelo sequencial com 1 camada de neuronio e 1 dado de entrada.\n",
        "\n",
        "* **Obs:** O modelo sequencial é útil quando temos apenas uma entrada e uma saída.\n",
        "\n",
        ">> units: representa a quantidade de neuronios da camada\n",
        "\n",
        ">>input_shape: representa o formato dos dados de entrada\n",
        "\n",
        "### Passo 2:\n",
        "> define-se a forma como será calculada \n",
        "\n",
        ">> Optimizer: otimizador, para que a nossa rede aprenda e modifique os pesos\n",
        "\n",
        ">> Loss: Função de erro\n",
        "\n",
        "### Passo 3:\n",
        "\n",
        " > Inicializa-se os dados de entrada\n",
        "\n",
        "### Passo 4:\n",
        "\n",
        "> Define o modelo (exemplo e épocas) do treinamento\n",
        "\n",
        ">> fit: Função que recebe a entrada, a saída e a época\n",
        "\n",
        ">> epochs: parâmetro que altera o quão a rede vai convergir (aprender ou não)\n",
        "\n",
        "### Passo 5: \n",
        "\n",
        "> Fazer a predição do modelo para os valores\n",
        "\n",
        ">> predict: método que recebe como entrada um vetor com um valor de x, e dá um valor de y próximo ao esperado."
      ],
      "metadata": {
        "id": "N1ReGb_zdaVu"
      }
    },
    {
      "cell_type": "code",
      "source": [
        "import tensorflow as tf\n",
        "import numpy as np\n",
        "from tensorflow import keras\n",
        "\n",
        "#passo 1\n",
        "modelo1 = keras.Sequential([keras.layers.Dense(units=1, input_shape=[1])])\n",
        "\n",
        "#Passo 2\n",
        "modelo1.compile(optimizer='sgd', loss = 'mean_squared_error')\n",
        "\n",
        "# Passo 3\n",
        "xs = np.array([-1.0,0.0,1.0,2.0,3.0,4.0], dtype = float)\n",
        "ys = np.array([-3.0,-1.0,1.0,3.0,5.0,7.0],dtype = float)\n",
        "\n",
        "#Passo 4\n",
        "modelo1.fit(xs,ys,epochs = 500) \n",
        "\n"
      ],
      "metadata": {
        "id": "KxyOjgY7Qsh6"
      },
      "execution_count": null,
      "outputs": []
    },
    {
      "cell_type": "markdown",
      "source": [
        "### sugestões para os passos 4 e 5:\n",
        "\n",
        "> Alterar o valor de entrada em 10, 15,20 e 25\n",
        "\n",
        "> Diminuir o número de épocas 50\n",
        "\n",
        "> Aumentar o número de épocas 2000"
      ],
      "metadata": {
        "id": "23AhM3aPXaZY"
      }
    },
    {
      "cell_type": "code",
      "source": [
        "#passo 5\n",
        "print(modelo1.predict([10.0])) #recebe a entrada como valor x para o valor 10\n",
        "print(modelo1.predict([15.0])) #recebe a entrada como valor x para o valor 15\n",
        "print(modelo1.predict([20.0])) #recebe a entrada como valor x para o valor 20\n",
        "print(modelo1.predict([25.0])) #recebe a entrada como valor x para o valor 25"
      ],
      "metadata": {
        "colab": {
          "base_uri": "https://localhost:8080/"
        },
        "id": "A8ySlAntRxpn",
        "outputId": "ed0f3bfd-f8fc-458e-873b-f350f25690c8"
      },
      "execution_count": null,
      "outputs": [
        {
          "output_type": "stream",
          "name": "stdout",
          "text": [
            "[[18.984623]]\n",
            "[[28.97348]]\n",
            "[[38.962337]]\n",
            "[[48.951195]]\n"
          ]
        }
      ]
    }
  ]
}